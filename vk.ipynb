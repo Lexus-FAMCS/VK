{
 "cells": [
  {
   "cell_type": "code",
   "execution_count": 21,
   "id": "89626129-7443-4a6b-9b3b-679ffce631fb",
   "metadata": {},
   "outputs": [],
   "source": [
    "import os\n",
    "import json\n",
    "import random\n",
    "from datetime import datetime, timedelta\n",
    "\n",
    "import numpy as np\n",
    "import cv2\n",
    "import matplotlib.pyplot as plt\n",
    "from tqdm.notebook import tqdm\n",
    "\n",
    "import torch\n",
    "import torch.nn as nn\n",
    "import torch.nn.functional as F\n",
    "from torch.utils.data import DataLoader\n",
    "import torchvision\n",
    "from torchvision import models\n",
    "import torchvision.transforms as T"
   ]
  },
  {
   "cell_type": "code",
   "execution_count": 4,
   "id": "22d53f46-3a46-42a1-bb05-98282df030fc",
   "metadata": {},
   "outputs": [],
   "source": [
    "with open('train_labels.json', 'r') as file:\n",
    "    train_data = json.load(file)\n",
    "with open('test_labels.json', 'r') as file:\n",
    "    test_data = json.load(file)"
   ]
  },
  {
   "cell_type": "code",
   "execution_count": 5,
   "id": "dd13b361-e02a-475d-947c-dc9685040e04",
   "metadata": {},
   "outputs": [],
   "source": [
    "for k, v in train_data.items():\n",
    "    assert v['start'] < v['end'], v"
   ]
  },
  {
   "cell_type": "code",
   "execution_count": 6,
   "id": "c6ac459c-d50e-4392-a85d-1bbf0af4e4ef",
   "metadata": {},
   "outputs": [],
   "source": [
    "for k, v in test_data.items():\n",
    "    assert v['start'] < v['end'], v"
   ]
  },
  {
   "cell_type": "code",
   "execution_count": 7,
   "id": "ea532eda-b468-445e-a2bc-7b63924e83c1",
   "metadata": {},
   "outputs": [
    {
     "data": {
      "text/plain": [
       "(80, 45)"
      ]
     },
     "execution_count": 7,
     "metadata": {},
     "output_type": "execute_result"
    }
   ],
   "source": [
    "len(train_data), len(test_data)"
   ]
  },
  {
   "cell_type": "code",
   "execution_count": 13,
   "id": "d1b13179-4640-4b6d-8489-6b808bdad860",
   "metadata": {},
   "outputs": [],
   "source": [
    "to_time = lambda s: datetime.strptime(s, \"%H:%M:%S\")"
   ]
  },
  {
   "cell_type": "code",
   "execution_count": 15,
   "id": "51274ebf-fed0-4153-989e-9bebb44480cd",
   "metadata": {},
   "outputs": [
    {
     "data": {
      "text/plain": [
       "'cuda'"
      ]
     },
     "execution_count": 15,
     "metadata": {},
     "output_type": "execute_result"
    }
   ],
   "source": [
    "device = 'cuda' if torch.cuda.is_available() else 'cpu'\n",
    "device"
   ]
  },
  {
   "cell_type": "code",
   "execution_count": 22,
   "id": "5d0cbaed-a010-42d3-ba84-33d6aded50f3",
   "metadata": {},
   "outputs": [],
   "source": [
    "class ClsDataset(torch.utils.data.Dataset):\n",
    "    def __init__(self, folder, data, mode='train'):\n",
    "        assert mode in ['train', 'test', 'val'], \"Check your Dataset mode!\"\n",
    "        \n",
    "        interval_sec = 1\n",
    "        total_minutes = 13\n",
    "        \n",
    "        if mode == 'train':\n",
    "            # self.trans = T.Compose([\n",
    "            #     # Some augmentations\n",
    "            #     T.ToTensor(),\n",
    "            #     T.Resize((256, 256))\n",
    "            # ])\n",
    "            self.trans = models.ResNet34_Weights.IMAGENET1K_V1.transforms()\n",
    "        else:\n",
    "            # self.trans = T.Compose([\n",
    "            #     T.ToTensor(),\n",
    "            #     T.Resize((256, 256))\n",
    "            # ])\n",
    "            self.trans = models.ResNet34_Weights.IMAGENET1K_V1.transforms()\n",
    "\n",
    "        self.images = []\n",
    "        self.labels = []\n",
    "        fs = [ f for f in os.listdir(folder) if not f.startswith('.') ]\n",
    "        for f in tqdm(fs):\n",
    "            video = os.listdir(os.path.join(folder, f))[0]\n",
    "            cap = cv2.VideoCapture(os.path.join(folder, f, video))\n",
    "            if not cap.isOpened():\n",
    "                cap.release()\n",
    "                print(f\"Ошибка при загрузке видео '{video_path}'!\")\n",
    "                continue\n",
    "            \n",
    "            fps = cap.get(cv2.CAP_PROP_FPS)\n",
    "            frame_interval = int(fps * interval_sec)\n",
    "            \n",
    "            label = data[f]\n",
    "            # print(label)\n",
    "            start_frame = int((time_to_seconds(label['start']) + 1) * fps)\n",
    "            end_frame = int(time_to_seconds(label['end']) * fps)\n",
    "            duration_frames = end_frame - start_frame\n",
    "            \n",
    "            extraction_points = [\n",
    "                (start_frame, end_frame),\n",
    "                (end_frame + duration_frames, end_frame + 2 * duration_frames),\n",
    "                (end_frame + 2 * duration_frames, end_frame + 3 * duration_frames)\n",
    "            ]\n",
    "            \n",
    "            \n",
    "            for ind, (start, end) in enumerate(extraction_points):\n",
    "                saved_frames = 0\n",
    "                cap.set(cv2.CAP_PROP_POS_FRAMES, start)\n",
    "                current_frame = start\n",
    "                \n",
    "                while current_frame < end:\n",
    "                    ret, frame = cap.read()\n",
    "                    if not ret:\n",
    "                        break\n",
    "                    \n",
    "                    if current_frame % frame_interval == 0:\n",
    "                        self.images.append(\n",
    "                            self.trans(\n",
    "                                torch.tensor(cv2.cvtColor(frame, cv2.COLOR_BGR2RGB)).permute(2, 0, 1)\n",
    "                            )\n",
    "                        )\n",
    "                        self.labels.append(int(ind==0))\n",
    "                        saved_frames += 1\n",
    "                    \n",
    "                    current_frame += 1\n",
    "                # print(f\"{f}; saved frames: {saved_frames}\")\n",
    "            \n",
    "            cap.release()\n",
    "\n",
    "    def __len__(self):\n",
    "        return len(self.images)\n",
    "    \n",
    "    def __getitem__(self, idx):\n",
    "        return self.images[idx], self.labels[idx]"
   ]
  },
  {
   "cell_type": "code",
   "execution_count": 23,
   "id": "1b038f2a-3f94-444a-b9b8-259a2089a9e9",
   "metadata": {},
   "outputs": [
    {
     "data": {
      "application/vnd.jupyter.widget-view+json": {
       "model_id": "99d6bad488c84255a610b2517a7480d7",
       "version_major": 2,
       "version_minor": 0
      },
      "text/plain": [
       "  0%|          | 0/45 [00:00<?, ?it/s]"
      ]
     },
     "metadata": {},
     "output_type": "display_data"
    }
   ],
   "source": [
    "test_dataset = ClsDataset('test', test_data, mode='test')"
   ]
  },
  {
   "cell_type": "code",
   "execution_count": 24,
   "id": "2bf501d2-1090-473c-9a23-8207a308fea3",
   "metadata": {},
   "outputs": [
    {
     "data": {
      "application/vnd.jupyter.widget-view+json": {
       "model_id": "b4195973573242139c30aa6a4eb2f227",
       "version_major": 2,
       "version_minor": 0
      },
      "text/plain": [
       "  0%|          | 0/80 [00:00<?, ?it/s]"
      ]
     },
     "metadata": {},
     "output_type": "display_data"
    }
   ],
   "source": [
    "train_dataset = ClsDataset('train', train_data, mode='train')"
   ]
  },
  {
   "cell_type": "code",
   "execution_count": 25,
   "id": "ae660136-b19a-4c08-9ee0-20aaab4a8afc",
   "metadata": {},
   "outputs": [],
   "source": [
    "batch_size=64\n",
    "train_dataloader = DataLoader(train_dataset, batch_size=batch_size, shuffle=True,\n",
    "                                              pin_memory=True, num_workers=4)\n",
    "test_dataloader = DataLoader(test_dataset, batch_size=batch_size, shuffle=True,\n",
    "                                              pin_memory=True, num_workers=4)"
   ]
  },
  {
   "cell_type": "code",
   "execution_count": 26,
   "id": "4b1b2668-5ae1-44e6-b9f8-f9d285906106",
   "metadata": {},
   "outputs": [
    {
     "name": "stdout",
     "output_type": "stream",
     "text": [
      "torch.Size([64, 3, 224, 224])\n",
      "torch.Size([64])\n"
     ]
    }
   ],
   "source": [
    "for x_batch, y_batch in train_dataloader:\n",
    "    print(x_batch.shape)\n",
    "    print(y_batch.shape)\n",
    "    break"
   ]
  },
  {
   "cell_type": "code",
   "execution_count": 27,
   "id": "57151a74-ac10-49a9-80ae-e651c6684dd6",
   "metadata": {},
   "outputs": [],
   "source": [
    "resnet34 = models.resnet34(weights=models.ResNet34_Weights.DEFAULT).to(device)\n",
    "in_ftr = resnet34.fc.in_features\n",
    "resnet34.fc = nn.Linear(in_ftr, 2).to(device)"
   ]
  },
  {
   "cell_type": "code",
   "execution_count": 28,
   "id": "e1a3bd21-72c0-47e6-818c-bb411fbf06fa",
   "metadata": {},
   "outputs": [],
   "source": [
    "lr = 1e-5\n",
    "epochs = 7\n",
    "\n",
    "model = resnet34\n",
    "opt = torch.optim.AdamW(model.parameters(), lr=lr)\n",
    "criterion = nn.CrossEntropyLoss(reduction='sum')\n",
    "scheduler = torch.optim.lr_scheduler.LinearLR(opt, 0.1, 1, 7)\n",
    "# scheduler = None"
   ]
  },
  {
   "cell_type": "code",
   "execution_count": 29,
   "id": "51b3575d-2e1a-4659-8e32-4c223fbf4181",
   "metadata": {},
   "outputs": [
    {
     "name": "stdout",
     "output_type": "stream",
     "text": [
      "Epoch 1/7\n"
     ]
    },
    {
     "data": {
      "application/vnd.jupyter.widget-view+json": {
       "model_id": "33df1f899f364783b84dbff2a45f52eb",
       "version_major": 2,
       "version_minor": 0
      },
      "text/plain": [
       "Train:   0%|          | 0/51 [00:00<?, ?it/s]"
      ]
     },
     "metadata": {},
     "output_type": "display_data"
    },
    {
     "data": {
      "application/vnd.jupyter.widget-view+json": {
       "model_id": "f1ec44f4e445444da09bd3cadf5ae7db",
       "version_major": 2,
       "version_minor": 0
      },
      "text/plain": [
       "Validation:   0%|          | 0/21 [00:00<?, ?it/s]"
      ]
     },
     "metadata": {},
     "output_type": "display_data"
    },
    {
     "name": "stdout",
     "output_type": "stream",
     "text": [
      "Training Loss: 0.7427, Training Accuracy: 0.4913\n",
      "Testing Loss: 0.6495, Testing Accuracy: 0.6328\n",
      "Learning Rate: 1.000e-06\n",
      "\n",
      "Epoch 2/7\n"
     ]
    },
    {
     "data": {
      "application/vnd.jupyter.widget-view+json": {
       "model_id": "45c003b2dbc94dc49aea74dca2630cc6",
       "version_major": 2,
       "version_minor": 0
      },
      "text/plain": [
       "Train:   0%|          | 0/51 [00:00<?, ?it/s]"
      ]
     },
     "metadata": {},
     "output_type": "display_data"
    },
    {
     "data": {
      "application/vnd.jupyter.widget-view+json": {
       "model_id": "d459987cea3c411ab17e9646e3ece857",
       "version_major": 2,
       "version_minor": 0
      },
      "text/plain": [
       "Validation:   0%|          | 0/21 [00:00<?, ?it/s]"
      ]
     },
     "metadata": {},
     "output_type": "display_data"
    },
    {
     "name": "stdout",
     "output_type": "stream",
     "text": [
      "Training Loss: 0.5676, Training Accuracy: 0.7131\n",
      "Testing Loss: 0.4597, Testing Accuracy: 0.8284\n",
      "Learning Rate: 2.286e-06\n",
      "\n",
      "Epoch 3/7\n"
     ]
    },
    {
     "data": {
      "application/vnd.jupyter.widget-view+json": {
       "model_id": "6ed07a2e62c14cb19754c0532f441ba5",
       "version_major": 2,
       "version_minor": 0
      },
      "text/plain": [
       "Train:   0%|          | 0/51 [00:00<?, ?it/s]"
      ]
     },
     "metadata": {},
     "output_type": "display_data"
    },
    {
     "data": {
      "application/vnd.jupyter.widget-view+json": {
       "model_id": "98a8e075d08a4653b622b271fac98dd8",
       "version_major": 2,
       "version_minor": 0
      },
      "text/plain": [
       "Validation:   0%|          | 0/21 [00:00<?, ?it/s]"
      ]
     },
     "metadata": {},
     "output_type": "display_data"
    },
    {
     "name": "stdout",
     "output_type": "stream",
     "text": [
      "Training Loss: 0.4088, Training Accuracy: 0.8508\n",
      "Testing Loss: 0.3405, Testing Accuracy: 0.8954\n",
      "Learning Rate: 3.571e-06\n",
      "\n",
      "Epoch 4/7\n"
     ]
    },
    {
     "data": {
      "application/vnd.jupyter.widget-view+json": {
       "model_id": "6e5988e6c49842c7b213c41577098ed6",
       "version_major": 2,
       "version_minor": 0
      },
      "text/plain": [
       "Train:   0%|          | 0/51 [00:00<?, ?it/s]"
      ]
     },
     "metadata": {},
     "output_type": "display_data"
    },
    {
     "data": {
      "application/vnd.jupyter.widget-view+json": {
       "model_id": "5f511a15a9a745ccaf78e7eb53c88a58",
       "version_major": 2,
       "version_minor": 0
      },
      "text/plain": [
       "Validation:   0%|          | 0/21 [00:00<?, ?it/s]"
      ]
     },
     "metadata": {},
     "output_type": "display_data"
    },
    {
     "name": "stdout",
     "output_type": "stream",
     "text": [
      "Training Loss: 0.2861, Training Accuracy: 0.9100\n",
      "Testing Loss: 0.2745, Testing Accuracy: 0.9187\n",
      "Learning Rate: 4.857e-06\n",
      "\n",
      "Epoch 5/7\n"
     ]
    },
    {
     "data": {
      "application/vnd.jupyter.widget-view+json": {
       "model_id": "cdb097759a3a44b9ba1d11c4d03daae9",
       "version_major": 2,
       "version_minor": 0
      },
      "text/plain": [
       "Train:   0%|          | 0/51 [00:00<?, ?it/s]"
      ]
     },
     "metadata": {},
     "output_type": "display_data"
    },
    {
     "data": {
      "application/vnd.jupyter.widget-view+json": {
       "model_id": "cf67b56147de4f8e8a8298b2d54bc3b4",
       "version_major": 2,
       "version_minor": 0
      },
      "text/plain": [
       "Validation:   0%|          | 0/21 [00:00<?, ?it/s]"
      ]
     },
     "metadata": {},
     "output_type": "display_data"
    },
    {
     "name": "stdout",
     "output_type": "stream",
     "text": [
      "Training Loss: 0.1926, Training Accuracy: 0.9492\n",
      "Testing Loss: 0.2184, Testing Accuracy: 0.9345\n",
      "Learning Rate: 6.143e-06\n",
      "\n",
      "Epoch 6/7\n"
     ]
    },
    {
     "data": {
      "application/vnd.jupyter.widget-view+json": {
       "model_id": "a11ed42d162248f895474c480889ece8",
       "version_major": 2,
       "version_minor": 0
      },
      "text/plain": [
       "Train:   0%|          | 0/51 [00:00<?, ?it/s]"
      ]
     },
     "metadata": {},
     "output_type": "display_data"
    },
    {
     "data": {
      "application/vnd.jupyter.widget-view+json": {
       "model_id": "bc92ea0a290d4dac91fc6529fb70f875",
       "version_major": 2,
       "version_minor": 0
      },
      "text/plain": [
       "Validation:   0%|          | 0/21 [00:00<?, ?it/s]"
      ]
     },
     "metadata": {},
     "output_type": "display_data"
    },
    {
     "name": "stdout",
     "output_type": "stream",
     "text": [
      "Training Loss: 0.1233, Training Accuracy: 0.9676\n",
      "Testing Loss: 0.1630, Testing Accuracy: 0.9616\n",
      "Learning Rate: 7.429e-06\n",
      "\n",
      "Epoch 7/7\n"
     ]
    },
    {
     "data": {
      "application/vnd.jupyter.widget-view+json": {
       "model_id": "81ec83ea53834c1eaa5157a14d94ec49",
       "version_major": 2,
       "version_minor": 0
      },
      "text/plain": [
       "Train:   0%|          | 0/51 [00:00<?, ?it/s]"
      ]
     },
     "metadata": {},
     "output_type": "display_data"
    },
    {
     "data": {
      "application/vnd.jupyter.widget-view+json": {
       "model_id": "ea9501381c6b43a4a3e9814274de861e",
       "version_major": 2,
       "version_minor": 0
      },
      "text/plain": [
       "Validation:   0%|          | 0/21 [00:00<?, ?it/s]"
      ]
     },
     "metadata": {},
     "output_type": "display_data"
    },
    {
     "name": "stdout",
     "output_type": "stream",
     "text": [
      "Training Loss: 0.0796, Training Accuracy: 0.9832\n",
      "Testing Loss: 0.1528, Testing Accuracy: 0.9571\n",
      "Learning Rate: 8.714e-06\n",
      "\n"
     ]
    }
   ],
   "source": [
    "from math import ceil\n",
    "history = {'train_loss': [], 'val_loss': [], 'train_acc': [], 'val_acc': [], 'lr': []}\n",
    "\n",
    "for epoch in range(epochs):\n",
    "    print(f\"Epoch {epoch+1}/{epochs}\")\n",
    "\n",
    "    history['lr'].append(opt.param_groups[0]['lr'])\n",
    "    model.train()\n",
    "    train_loss = 0\n",
    "    train_acc = 0\n",
    "    num_samples = 0\n",
    "    for idx, (X_batch, y_batch) in enumerate(tqdm(train_dataloader, desc=\"Train\")):\n",
    "        X_batch, y_batch = X_batch.to(device), y_batch.to(device)\n",
    "        pred = model(X_batch)\n",
    "        loss = criterion(pred, y_batch)\n",
    "\n",
    "        opt.zero_grad()\n",
    "        loss.backward()\n",
    "        opt.step()\n",
    "\n",
    "        train_loss += loss.item()\n",
    "        train_acc += (torch.argmax(pred, dim=-1) == y_batch).sum().item()\n",
    "        num_samples += len(X_batch)\n",
    "            \n",
    "    train_loss /= num_samples\n",
    "    train_acc /= num_samples\n",
    "    history['train_loss'].append(train_loss)\n",
    "    history['train_acc'].append(train_acc)\n",
    "\n",
    "\n",
    "    model.eval()\n",
    "    val_loss = 0\n",
    "    val_acc = 0\n",
    "    num_samples = 0\n",
    "    with torch.no_grad():\n",
    "        for idx, (X_batch, y_batch) in enumerate(tqdm(test_dataloader, desc=\"Validation\")):\n",
    "            X_batch, y_batch = X_batch.to(device), y_batch.to(device)\n",
    "            pred = model(X_batch)\n",
    "            loss = criterion(pred, y_batch)\n",
    "\n",
    "        \n",
    "            val_loss += loss.item()\n",
    "            val_acc += (torch.argmax(pred, dim=-1) == y_batch).sum().item()\n",
    "            num_samples += len(X_batch)\n",
    "\n",
    "    val_loss /= num_samples\n",
    "    val_acc /= num_samples\n",
    "    history['val_loss'].append(val_loss)\n",
    "    history['val_acc'].append(val_acc)\n",
    "\n",
    "    if scheduler is not None:\n",
    "        try:\n",
    "            scheduler.step()\n",
    "        except:\n",
    "            scheduler.step(history[''])\n",
    "    \n",
    "    print(f\"Training Loss: {history['train_loss'][-1]:.4f}, Training Accuracy: {history['train_acc'][-1]:.4f}\")\n",
    "    print(f\"Testing Loss: {history['val_loss'][-1]:.4f}, Testing Accuracy: {history['val_acc'][-1]:.4f}\")\n",
    "    print(f\"Learning Rate: {history['lr'][-1]:.3e}\")\n",
    "    \n",
    "    print()"
   ]
  },
  {
   "cell_type": "code",
   "execution_count": 32,
   "id": "d334d83c-070e-4486-a465-ef180fb1f6e4",
   "metadata": {},
   "outputs": [],
   "source": [
    "from copy import deepcopy\n",
    "cls_model = deepcopy(model)"
   ]
  },
  {
   "cell_type": "code",
   "execution_count": 238,
   "id": "910ea8e6-f0de-4446-ae03-979b7d265a1f",
   "metadata": {},
   "outputs": [],
   "source": [
    "import gc\n",
    "gc.collect()\n",
    "torch.cuda.empty_cache()"
   ]
  },
  {
   "cell_type": "code",
   "execution_count": 201,
   "id": "ac55b3b9-4155-4b52-bda9-710f84637c2d",
   "metadata": {},
   "outputs": [],
   "source": [
    "class RegDataset(torch.utils.data.Dataset):\n",
    "    def __init__(self, folder, data, mode='train'):\n",
    "        assert mode in ['train', 'test', 'val'], \"Check your Dataset mode!\"\n",
    "        self.mode = mode\n",
    "        cls_model.avgpool = nn.Identity().to(device)\n",
    "        cls_model.fc = nn.Identity().to(device)\n",
    "        \n",
    "        interval_sec = 1\n",
    "        total_minutes = 13\n",
    "\n",
    "        self.backbone_trans = models.ResNet34_Weights.IMAGENET1K_V1.transforms()\n",
    "        self.trans = T.Compose([\n",
    "            T.RandomHorizontalFlip(p=0.5),\n",
    "            T.RandomRotation(15),\n",
    "        ])\n",
    "\n",
    "        self.videos = []\n",
    "        self.labels = []\n",
    "        fs = [ f for f in os.listdir(folder) if not f.startswith('.') ]\n",
    "        with torch.no_grad():\n",
    "            for f in tqdm(fs):\n",
    "                video_name = os.listdir(os.path.join(folder, f))[0]\n",
    "                cap = cv2.VideoCapture(os.path.join(folder, f, video_name))\n",
    "                video = []\n",
    "                if not cap.isOpened():\n",
    "                    cap.release()\n",
    "                    print(f\"Ошибка при загрузке видео '{video_path}'!\")\n",
    "                    continue\n",
    "                \n",
    "                fps = cap.get(cv2.CAP_PROP_FPS)\n",
    "                frame_interval = int(fps * interval_sec)\n",
    "                end = 512\n",
    "                \n",
    "                label = data[f]\n",
    "                start = (datetime.strptime(label['start'], '%H:%M:%S') -\n",
    "                            datetime.strptime('0:00:00', '%H:%M:%S')).seconds / end\n",
    "                duration = (datetime.strptime(label['end'], '%H:%M:%S') -\n",
    "                            datetime.strptime(label['start'], '%H:%M:%S')).seconds / end\n",
    "                self.labels.append((start, duration))\n",
    "                if start + duration > end:\n",
    "                    continue\n",
    "                saved_frames = 0\n",
    "                current_frame = 0\n",
    "                \n",
    "                while saved_frames < end:\n",
    "                    ret, frame = cap.read()\n",
    "                    if not ret:\n",
    "                        break\n",
    "                    \n",
    "                    if current_frame % frame_interval == 0:\n",
    "                        video.append(\n",
    "                            cls_model(\n",
    "                                self.backbone_trans(\n",
    "                                    torch.tensor(cv2.cvtColor(frame, cv2.COLOR_BGR2RGB)).permute(2, 0, 1)\n",
    "                                ).unsqueeze(0).to(device)\n",
    "                            ).to('cpu').squeeze().view(512, 7, 7)\n",
    "                        )\n",
    "                        saved_frames += 1\n",
    "                    current_frame += 1\n",
    "                video = torch.stack(video)\n",
    "                if video.shape[0] == end:\n",
    "                    self.videos.append(video)\n",
    "                # print(f\"{f}; saved frames: {saved_frames}\")\n",
    "                \n",
    "                cap.release()\n",
    "\n",
    "    def __len__(self):\n",
    "        return len(self.videos)\n",
    "    \n",
    "    def __getitem__(self, idx):\n",
    "        video = self.videos[idx]\n",
    "        if self.mode == 'train':\n",
    "            video = self.trans(video)\n",
    "        return video, torch.tensor(self.labels[idx], dtype=torch.float32)"
   ]
  },
  {
   "cell_type": "code",
   "execution_count": 149,
   "id": "ba7e94ca-9cc1-4f68-9547-c31719db050d",
   "metadata": {},
   "outputs": [
    {
     "data": {
      "application/vnd.jupyter.widget-view+json": {
       "model_id": "d6257c710b3940bbbccdfa2c46266574",
       "version_major": 2,
       "version_minor": 0
      },
      "text/plain": [
       "  0%|          | 0/45 [00:00<?, ?it/s]"
      ]
     },
     "metadata": {},
     "output_type": "display_data"
    }
   ],
   "source": [
    "test_reg_dataset = RegDataset('test', test_data, mode='test')"
   ]
  },
  {
   "cell_type": "code",
   "execution_count": 202,
   "id": "30274953-5f1f-44b8-875e-258f548c887b",
   "metadata": {},
   "outputs": [
    {
     "data": {
      "application/vnd.jupyter.widget-view+json": {
       "model_id": "693e196cce694e87b98e5ac8921c287d",
       "version_major": 2,
       "version_minor": 0
      },
      "text/plain": [
       "  0%|          | 0/80 [00:00<?, ?it/s]"
      ]
     },
     "metadata": {},
     "output_type": "display_data"
    },
    {
     "name": "stderr",
     "output_type": "stream",
     "text": [
      "[NULL @ 0x963bc800] Invalid NAL unit size (12559 > 4470).\n",
      "[NULL @ 0x963bc800] missing picture in access unit with size 4486\n",
      "[h264 @ 0xd2ebdcc0] Invalid NAL unit size (12559 > 4470).\n",
      "[h264 @ 0xd2ebdcc0] Error splitting the input into NAL units.\n",
      "[mov,mp4,m4a,3gp,3g2,mj2 @ 0x8c331e80] stream 0, offset 0x12c01f99: partial file\n",
      "[mov,mp4,m4a,3gp,3g2,mj2 @ 0x8c331e80] stream 1, offset 0x12c06937: partial file\n"
     ]
    }
   ],
   "source": [
    "train_reg_dataset = RegDataset('train', train_data)"
   ]
  },
  {
   "cell_type": "code",
   "execution_count": 239,
   "id": "fa235966-2039-409a-9556-c163c1c0b4b7",
   "metadata": {},
   "outputs": [],
   "source": [
    "batch_size=16\n",
    "train_reg_dataloader = DataLoader(train_reg_dataset, batch_size=batch_size, shuffle=True,\n",
    "                                              pin_memory=True, num_workers=4)\n",
    "test_reg_dataloader = DataLoader(test_reg_dataset, batch_size=batch_size, shuffle=False,\n",
    "                                              pin_memory=True, num_workers=4)"
   ]
  },
  {
   "cell_type": "code",
   "execution_count": 343,
   "id": "4e5d145a-5abd-4581-a150-1227307fd88f",
   "metadata": {},
   "outputs": [],
   "source": [
    "class TimeNet(nn.Module):\n",
    "    def __init__(self):\n",
    "        super().__init__()\n",
    "        self.features = nn.Sequential(\n",
    "            nn.Conv3d(512, 512, kernel_size=3, padding=1),\n",
    "            nn.BatchNorm3d(512),\n",
    "            nn.ReLU(),\n",
    "            nn.Dropout(0.4),\n",
    "            \n",
    "            nn.Conv3d(512, 256, kernel_size=3, padding=1),\n",
    "            nn.BatchNorm3d(256),\n",
    "            nn.ReLU(),\n",
    "            nn.Dropout(0.4),\n",
    "            \n",
    "            nn.Conv3d(256, 256, kernel_size=3, padding=1),\n",
    "            nn.AdaptiveAvgPool3d((1, 1, 1)),\n",
    "            nn.Dropout(0.4)\n",
    "        )\n",
    "        \n",
    "        self.classifier = nn.Sequential(\n",
    "            nn.Linear(256, 64),\n",
    "            nn.ReLU(),\n",
    "            nn.Dropout(0.4),\n",
    "            nn.Linear(64, 2)\n",
    "        )\n",
    "\n",
    "    def forward(self, x):\n",
    "        x = self.features(x.permute(0, 2, 1, 3, 4))\n",
    "        x = x.view(x.size(0), -1)\n",
    "        return self.classifier(x)"
   ]
  },
  {
   "cell_type": "code",
   "execution_count": 344,
   "id": "fd8b490b-5a38-4830-b66c-26a4a884f14e",
   "metadata": {},
   "outputs": [],
   "source": [
    "def weighted_mse_loss(y_pred, y_true, weights=torch.tensor([1, 2]).to(device)):\n",
    "    return ((weights * (y_pred - y_true) ** 2).sum())"
   ]
  },
  {
   "cell_type": "code",
   "execution_count": 345,
   "id": "90a03bfd-d190-4081-9584-837885672b0b",
   "metadata": {},
   "outputs": [],
   "source": [
    "lr = 1e-4\n",
    "epochs = 18\n",
    "\n",
    "model = TimeNet().to(device)\n",
    "opt = torch.optim.AdamW(model.parameters(), lr=lr)\n",
    "criterion = weighted_mse_loss\n",
    "scheduler = torch.optim.lr_scheduler.ReduceLROnPlateau(opt, 'min', factor=0.5, patience=5, min_lr=1e-6)"
   ]
  },
  {
   "cell_type": "code",
   "execution_count": 346,
   "id": "a33838b5-c942-444b-8354-b1a7af595920",
   "metadata": {},
   "outputs": [],
   "source": [
    "torch.set_printoptions(sci_mode=False)"
   ]
  },
  {
   "cell_type": "code",
   "execution_count": 347,
   "id": "2c7b9a14-5a35-4b82-b8e2-f427fbfe81fb",
   "metadata": {},
   "outputs": [
    {
     "name": "stdout",
     "output_type": "stream",
     "text": [
      "Epoch 1/18\n"
     ]
    },
    {
     "data": {
      "application/vnd.jupyter.widget-view+json": {
       "model_id": "c4fc60bb21c349999db72711c0b2cee3",
       "version_major": 2,
       "version_minor": 0
      },
      "text/plain": [
       "Train:   0%|          | 0/5 [00:00<?, ?it/s]"
      ]
     },
     "metadata": {},
     "output_type": "display_data"
    },
    {
     "name": "stdout",
     "output_type": "stream",
     "text": [
      "tensor([[-0.2114, -0.0125],\n",
      "        [-0.2257, -0.0717],\n",
      "        [-0.0889, -0.0242],\n",
      "        [-0.1251, -0.0009],\n",
      "        [-0.2088, -0.0605]], device='cuda:0', grad_fn=<SliceBackward0>)\n",
      "tensor([[260.,   7.],\n",
      "        [ 17.,   5.],\n",
      "        [ 67.,   3.],\n",
      "        [ 66.,   4.],\n",
      "        [104.,   4.]], device='cuda:0')\n"
     ]
    },
    {
     "data": {
      "application/vnd.jupyter.widget-view+json": {
       "model_id": "a6d95321971142b6b02167a2e6ba6480",
       "version_major": 2,
       "version_minor": 0
      },
      "text/plain": [
       "Validation:   0%|          | 0/3 [00:00<?, ?it/s]"
      ]
     },
     "metadata": {},
     "output_type": "display_data"
    },
    {
     "name": "stdout",
     "output_type": "stream",
     "text": [
      "Training Loss: 36966.9150\n",
      "Testing Loss: 8936.3763\n",
      "Learning Rate: 1.000e-04\n",
      "\n",
      "Epoch 2/18\n"
     ]
    },
    {
     "data": {
      "application/vnd.jupyter.widget-view+json": {
       "model_id": "c2a55cec4cb247feb031498b555d7329",
       "version_major": 2,
       "version_minor": 0
      },
      "text/plain": [
       "Train:   0%|          | 0/5 [00:00<?, ?it/s]"
      ]
     },
     "metadata": {},
     "output_type": "display_data"
    },
    {
     "name": "stdout",
     "output_type": "stream",
     "text": [
      "tensor([[ 3.3428,  0.2709],\n",
      "        [ 1.8041,  0.4854],\n",
      "        [ 1.5137,  0.3350],\n",
      "        [ 1.8191, -0.4573],\n",
      "        [ 2.6020,  0.5524]], device='cuda:0', grad_fn=<SliceBackward0>)\n",
      "tensor([[ 50.,   5.],\n",
      "        [393.,  43.],\n",
      "        [171.,  24.],\n",
      "        [112.,  25.],\n",
      "        [117.,  60.]], device='cuda:0')\n"
     ]
    },
    {
     "data": {
      "application/vnd.jupyter.widget-view+json": {
       "model_id": "d19413b72de74fb1ae77e51cf96bac21",
       "version_major": 2,
       "version_minor": 0
      },
      "text/plain": [
       "Validation:   0%|          | 0/3 [00:00<?, ?it/s]"
      ]
     },
     "metadata": {},
     "output_type": "display_data"
    },
    {
     "name": "stdout",
     "output_type": "stream",
     "text": [
      "Training Loss: 36310.0174\n",
      "Testing Loss: 8590.9352\n",
      "Learning Rate: 1.000e-04\n",
      "\n",
      "Epoch 3/18\n"
     ]
    },
    {
     "data": {
      "application/vnd.jupyter.widget-view+json": {
       "model_id": "4d9a6d7e57c14ddeba12fb9529c40ad5",
       "version_major": 2,
       "version_minor": 0
      },
      "text/plain": [
       "Train:   0%|          | 0/5 [00:00<?, ?it/s]"
      ]
     },
     "metadata": {},
     "output_type": "display_data"
    },
    {
     "name": "stdout",
     "output_type": "stream",
     "text": [
      "tensor([[9.6617, 6.0791],\n",
      "        [6.2244, 0.8476],\n",
      "        [1.2342, 0.1587],\n",
      "        [7.4121, 1.0467],\n",
      "        [3.6471, 0.6369]], device='cuda:0', grad_fn=<SliceBackward0>)\n",
      "tensor([[ 97.,  34.],\n",
      "        [106.,  10.],\n",
      "        [  6.,   3.],\n",
      "        [ 95.,  36.],\n",
      "        [ 61.,   3.]], device='cuda:0')\n"
     ]
    },
    {
     "data": {
      "application/vnd.jupyter.widget-view+json": {
       "model_id": "fe4824168e094520b341fbc0ada2af01",
       "version_major": 2,
       "version_minor": 0
      },
      "text/plain": [
       "Validation:   0%|          | 0/3 [00:00<?, ?it/s]"
      ]
     },
     "metadata": {},
     "output_type": "display_data"
    },
    {
     "name": "stdout",
     "output_type": "stream",
     "text": [
      "Training Loss: 35098.3028\n",
      "Testing Loss: 8360.4439\n",
      "Learning Rate: 1.000e-04\n",
      "\n",
      "Epoch 4/18\n"
     ]
    },
    {
     "data": {
      "application/vnd.jupyter.widget-view+json": {
       "model_id": "07465caf6cdb47f780efb5d5d2ca7e55",
       "version_major": 2,
       "version_minor": 0
      },
      "text/plain": [
       "Train:   0%|          | 0/5 [00:00<?, ?it/s]"
      ]
     },
     "metadata": {},
     "output_type": "display_data"
    },
    {
     "name": "stdout",
     "output_type": "stream",
     "text": [
      "tensor([[ 3.1249,  1.9352],\n",
      "        [13.4157,  1.1869],\n",
      "        [19.0260,  3.4213],\n",
      "        [ 3.9110,  0.3551],\n",
      "        [ 2.9323,  1.0353]], device='cuda:0', grad_fn=<SliceBackward0>)\n",
      "tensor([[189.,  10.],\n",
      "        [ 51.,  35.],\n",
      "        [708.,  41.],\n",
      "        [104.,   4.],\n",
      "        [ 10.,  10.]], device='cuda:0')\n"
     ]
    },
    {
     "data": {
      "application/vnd.jupyter.widget-view+json": {
       "model_id": "30d919a5a7b54c81bb28d8584d47c08c",
       "version_major": 2,
       "version_minor": 0
      },
      "text/plain": [
       "Validation:   0%|          | 0/3 [00:00<?, ?it/s]"
      ]
     },
     "metadata": {},
     "output_type": "display_data"
    },
    {
     "name": "stdout",
     "output_type": "stream",
     "text": [
      "Training Loss: 33808.1899\n",
      "Testing Loss: 8549.6112\n",
      "Learning Rate: 1.000e-04\n",
      "\n",
      "Epoch 5/18\n"
     ]
    },
    {
     "data": {
      "application/vnd.jupyter.widget-view+json": {
       "model_id": "c391c14607bd4f08a9ea9d320a7c21f4",
       "version_major": 2,
       "version_minor": 0
      },
      "text/plain": [
       "Train:   0%|          | 0/5 [00:00<?, ?it/s]"
      ]
     },
     "metadata": {},
     "output_type": "display_data"
    },
    {
     "name": "stdout",
     "output_type": "stream",
     "text": [
      "tensor([[ 1.4898,  0.6928],\n",
      "        [24.8334,  1.7067],\n",
      "        [ 4.3641,  0.3369],\n",
      "        [ 8.1581,  1.3026],\n",
      "        [ 9.9960,  1.7039]], device='cuda:0', grad_fn=<SliceBackward0>)\n",
      "tensor([[  6.,   3.],\n",
      "        [582.,  43.],\n",
      "        [ 17.,   5.],\n",
      "        [ 42.,   5.],\n",
      "        [ 10.,  11.]], device='cuda:0')\n"
     ]
    },
    {
     "data": {
      "application/vnd.jupyter.widget-view+json": {
       "model_id": "fe55f4ff8c4c489196348bc24007b99f",
       "version_major": 2,
       "version_minor": 0
      },
      "text/plain": [
       "Validation:   0%|          | 0/3 [00:00<?, ?it/s]"
      ]
     },
     "metadata": {},
     "output_type": "display_data"
    },
    {
     "name": "stdout",
     "output_type": "stream",
     "text": [
      "Training Loss: 32325.3366\n",
      "Testing Loss: 8645.9766\n",
      "Learning Rate: 1.000e-04\n",
      "\n",
      "Epoch 6/18\n"
     ]
    },
    {
     "data": {
      "application/vnd.jupyter.widget-view+json": {
       "model_id": "23ba94ddbda741998806167ce2d3d62f",
       "version_major": 2,
       "version_minor": 0
      },
      "text/plain": [
       "Train:   0%|          | 0/5 [00:00<?, ?it/s]"
      ]
     },
     "metadata": {},
     "output_type": "display_data"
    },
    {
     "name": "stdout",
     "output_type": "stream",
     "text": [
      "tensor([[30.5917,  2.7974],\n",
      "        [17.6122, -0.7808],\n",
      "        [ 5.6706,  2.1163],\n",
      "        [ 7.9483,  3.8162],\n",
      "        [18.7232,  4.5772]], device='cuda:0', grad_fn=<SliceBackward0>)\n",
      "tensor([[151.,   6.],\n",
      "        [ 51.,  35.],\n",
      "        [ 11.,  10.],\n",
      "        [ 61.,   3.],\n",
      "        [ 50.,   5.]], device='cuda:0')\n"
     ]
    },
    {
     "data": {
      "application/vnd.jupyter.widget-view+json": {
       "model_id": "311c4acbd61b483482a094ad37003882",
       "version_major": 2,
       "version_minor": 0
      },
      "text/plain": [
       "Validation:   0%|          | 0/3 [00:00<?, ?it/s]"
      ]
     },
     "metadata": {},
     "output_type": "display_data"
    },
    {
     "name": "stdout",
     "output_type": "stream",
     "text": [
      "Training Loss: 30116.0540\n",
      "Testing Loss: 8047.4149\n",
      "Learning Rate: 1.000e-04\n",
      "\n",
      "Epoch 7/18\n"
     ]
    },
    {
     "data": {
      "application/vnd.jupyter.widget-view+json": {
       "model_id": "0454140d93e049d8988915e674c1ec55",
       "version_major": 2,
       "version_minor": 0
      },
      "text/plain": [
       "Train:   0%|          | 0/5 [00:00<?, ?it/s]"
      ]
     },
     "metadata": {},
     "output_type": "display_data"
    },
    {
     "name": "stdout",
     "output_type": "stream",
     "text": [
      "tensor([[12.3011, -2.7587],\n",
      "        [ 7.5896, -0.4613],\n",
      "        [26.0691,  2.8464],\n",
      "        [13.9050,  6.7402],\n",
      "        [18.0704,  1.6484]], device='cuda:0', grad_fn=<SliceBackward0>)\n",
      "tensor([[ 58.,   4.],\n",
      "        [ 17.,   5.],\n",
      "        [117.,  60.],\n",
      "        [ 10.,  11.],\n",
      "        [ 36.,   6.]], device='cuda:0')\n"
     ]
    },
    {
     "data": {
      "application/vnd.jupyter.widget-view+json": {
       "model_id": "4dcd151539584c6997777acde8c846c0",
       "version_major": 2,
       "version_minor": 0
      },
      "text/plain": [
       "Validation:   0%|          | 0/3 [00:00<?, ?it/s]"
      ]
     },
     "metadata": {},
     "output_type": "display_data"
    },
    {
     "name": "stdout",
     "output_type": "stream",
     "text": [
      "Training Loss: 28417.6586\n",
      "Testing Loss: 8999.2372\n",
      "Learning Rate: 1.000e-04\n",
      "\n",
      "Epoch 8/18\n"
     ]
    },
    {
     "data": {
      "application/vnd.jupyter.widget-view+json": {
       "model_id": "f82d5c8549d84dd78790d0bbfbcf8329",
       "version_major": 2,
       "version_minor": 0
      },
      "text/plain": [
       "Train:   0%|          | 0/5 [00:00<?, ?it/s]"
      ]
     },
     "metadata": {},
     "output_type": "display_data"
    },
    {
     "name": "stdout",
     "output_type": "stream",
     "text": [
      "tensor([[19.6400,  0.8848],\n",
      "        [17.2740,  4.0643],\n",
      "        [ 9.3057,  3.7470],\n",
      "        [28.1021,  3.3340],\n",
      "        [56.2306,  9.4354]], device='cuda:0', grad_fn=<SliceBackward0>)\n",
      "tensor([[ 48.,   2.],\n",
      "        [ 11.,  10.],\n",
      "        [ 17.,   5.],\n",
      "        [ 10.,  10.],\n",
      "        [346.,   4.]], device='cuda:0')\n"
     ]
    },
    {
     "data": {
      "application/vnd.jupyter.widget-view+json": {
       "model_id": "52f8089d17944b67a4e5b38dacd1a406",
       "version_major": 2,
       "version_minor": 0
      },
      "text/plain": [
       "Validation:   0%|          | 0/3 [00:00<?, ?it/s]"
      ]
     },
     "metadata": {},
     "output_type": "display_data"
    },
    {
     "name": "stdout",
     "output_type": "stream",
     "text": [
      "Training Loss: 26443.0866\n",
      "Testing Loss: 8067.8637\n",
      "Learning Rate: 1.000e-04\n",
      "\n",
      "Epoch 9/18\n"
     ]
    },
    {
     "data": {
      "application/vnd.jupyter.widget-view+json": {
       "model_id": "7398caf150424705bfe74d0f91c1979b",
       "version_major": 2,
       "version_minor": 0
      },
      "text/plain": [
       "Train:   0%|          | 0/5 [00:00<?, ?it/s]"
      ]
     },
     "metadata": {},
     "output_type": "display_data"
    },
    {
     "name": "stdout",
     "output_type": "stream",
     "text": [
      "tensor([[ 28.1806,  -1.1671],\n",
      "        [ 28.3274,   7.4693],\n",
      "        [  2.9389,   0.8576],\n",
      "        [ 28.7184,   5.9668],\n",
      "        [106.0863,  20.9137]], device='cuda:0', grad_fn=<SliceBackward0>)\n",
      "tensor([[281.,  44.],\n",
      "        [ 41.,  10.],\n",
      "        [  6.,   4.],\n",
      "        [ 95.,  36.],\n",
      "        [399.,  43.]], device='cuda:0')\n"
     ]
    },
    {
     "data": {
      "application/vnd.jupyter.widget-view+json": {
       "model_id": "cf72efe3b34147b783c0e8d0b1fca918",
       "version_major": 2,
       "version_minor": 0
      },
      "text/plain": [
       "Validation:   0%|          | 0/3 [00:00<?, ?it/s]"
      ]
     },
     "metadata": {},
     "output_type": "display_data"
    },
    {
     "name": "stdout",
     "output_type": "stream",
     "text": [
      "Training Loss: 22665.2061\n",
      "Testing Loss: 8646.3964\n",
      "Learning Rate: 1.000e-04\n",
      "\n",
      "Epoch 10/18\n"
     ]
    },
    {
     "data": {
      "application/vnd.jupyter.widget-view+json": {
       "model_id": "e6a337dae6c0460cab6f9019bf410f76",
       "version_major": 2,
       "version_minor": 0
      },
      "text/plain": [
       "Train:   0%|          | 0/5 [00:00<?, ?it/s]"
      ]
     },
     "metadata": {},
     "output_type": "display_data"
    },
    {
     "name": "stdout",
     "output_type": "stream",
     "text": [
      "tensor([[52.8134,  8.6698],\n",
      "        [25.9995, -2.2954],\n",
      "        [17.1086,  4.5333],\n",
      "        [49.0108, 16.5987],\n",
      "        [23.2276,  2.2448]], device='cuda:0', grad_fn=<SliceBackward0>)\n",
      "tensor([[95., 36.],\n",
      "        [50.,  5.],\n",
      "        [11., 10.],\n",
      "        [50.,  5.],\n",
      "        [65., 10.]], device='cuda:0')\n"
     ]
    },
    {
     "data": {
      "application/vnd.jupyter.widget-view+json": {
       "model_id": "e73d83770d8f4d27bb00594e2d12987d",
       "version_major": 2,
       "version_minor": 0
      },
      "text/plain": [
       "Validation:   0%|          | 0/3 [00:00<?, ?it/s]"
      ]
     },
     "metadata": {},
     "output_type": "display_data"
    },
    {
     "name": "stdout",
     "output_type": "stream",
     "text": [
      "Training Loss: 20175.3471\n",
      "Testing Loss: 7113.7187\n",
      "Learning Rate: 1.000e-04\n",
      "\n",
      "Epoch 11/18\n"
     ]
    },
    {
     "data": {
      "application/vnd.jupyter.widget-view+json": {
       "model_id": "97c291ea08fb41149f26f0ae8b50f640",
       "version_major": 2,
       "version_minor": 0
      },
      "text/plain": [
       "Train:   0%|          | 0/5 [00:00<?, ?it/s]"
      ]
     },
     "metadata": {},
     "output_type": "display_data"
    },
    {
     "name": "stdout",
     "output_type": "stream",
     "text": [
      "tensor([[ 7.9525,  1.4177],\n",
      "        [18.2135,  2.3266],\n",
      "        [27.8002,  5.7956],\n",
      "        [45.2044,  7.0090],\n",
      "        [48.3147,  2.4587]], device='cuda:0', grad_fn=<SliceBackward0>)\n",
      "tensor([[ 6.,  4.],\n",
      "        [17.,  5.],\n",
      "        [64.,  3.],\n",
      "        [36.,  6.],\n",
      "        [91.,  7.]], device='cuda:0')\n"
     ]
    },
    {
     "data": {
      "application/vnd.jupyter.widget-view+json": {
       "model_id": "773c99fcca8346b78c1ef6d39caccfb2",
       "version_major": 2,
       "version_minor": 0
      },
      "text/plain": [
       "Validation:   0%|          | 0/3 [00:00<?, ?it/s]"
      ]
     },
     "metadata": {},
     "output_type": "display_data"
    },
    {
     "name": "stdout",
     "output_type": "stream",
     "text": [
      "Training Loss: 18134.9498\n",
      "Testing Loss: 6981.9284\n",
      "Learning Rate: 1.000e-04\n",
      "\n",
      "Epoch 12/18\n"
     ]
    },
    {
     "data": {
      "application/vnd.jupyter.widget-view+json": {
       "model_id": "3528dabebfa9420882677be2ba27c601",
       "version_major": 2,
       "version_minor": 0
      },
      "text/plain": [
       "Train:   0%|          | 0/5 [00:00<?, ?it/s]"
      ]
     },
     "metadata": {},
     "output_type": "display_data"
    },
    {
     "name": "stdout",
     "output_type": "stream",
     "text": [
      "tensor([[ 16.3224,   3.3060],\n",
      "        [ 58.7856,  -2.5146],\n",
      "        [ 14.3633,   1.7407],\n",
      "        [ 25.1159,  15.2902],\n",
      "        [262.2464,  88.4111]], device='cuda:0', grad_fn=<SliceBackward0>)\n",
      "tensor([[125.,  10.],\n",
      "        [ 97.,  34.],\n",
      "        [ 43.,   4.],\n",
      "        [ 17.,   5.],\n",
      "        [708.,  41.]], device='cuda:0')\n"
     ]
    },
    {
     "data": {
      "application/vnd.jupyter.widget-view+json": {
       "model_id": "b8bde5d7fd084fb7996fb7b90b4597f6",
       "version_major": 2,
       "version_minor": 0
      },
      "text/plain": [
       "Validation:   0%|          | 0/3 [00:00<?, ?it/s]"
      ]
     },
     "metadata": {},
     "output_type": "display_data"
    },
    {
     "name": "stdout",
     "output_type": "stream",
     "text": [
      "Training Loss: 17095.3270\n",
      "Testing Loss: 9623.3312\n",
      "Learning Rate: 1.000e-04\n",
      "\n",
      "Epoch 13/18\n"
     ]
    },
    {
     "data": {
      "application/vnd.jupyter.widget-view+json": {
       "model_id": "5631b44b34614fcc90f47612188cfcb2",
       "version_major": 2,
       "version_minor": 0
      },
      "text/plain": [
       "Train:   0%|          | 0/5 [00:00<?, ?it/s]"
      ]
     },
     "metadata": {},
     "output_type": "display_data"
    },
    {
     "name": "stdout",
     "output_type": "stream",
     "text": [
      "tensor([[ 40.9351,  19.6933],\n",
      "        [ 88.0041,  12.2103],\n",
      "        [101.0219,   9.0758],\n",
      "        [ 46.0602,  11.1673],\n",
      "        [ 74.4883,  10.1099]], device='cuda:0', grad_fn=<SliceBackward0>)\n",
      "tensor([[ 17.,   5.],\n",
      "        [112.,  25.],\n",
      "        [151.,   6.],\n",
      "        [188.,   4.],\n",
      "        [ 91.,   7.]], device='cuda:0')\n"
     ]
    },
    {
     "data": {
      "application/vnd.jupyter.widget-view+json": {
       "model_id": "599ef6ca2e3049f5a535bea73b9b303c",
       "version_major": 2,
       "version_minor": 0
      },
      "text/plain": [
       "Validation:   0%|          | 0/3 [00:00<?, ?it/s]"
      ]
     },
     "metadata": {},
     "output_type": "display_data"
    },
    {
     "name": "stdout",
     "output_type": "stream",
     "text": [
      "Training Loss: 13871.4462\n",
      "Testing Loss: 6017.9846\n",
      "Learning Rate: 1.000e-04\n",
      "\n",
      "Epoch 14/18\n"
     ]
    },
    {
     "data": {
      "application/vnd.jupyter.widget-view+json": {
       "model_id": "d104f8df65b749d7b9f815ce4099d730",
       "version_major": 2,
       "version_minor": 0
      },
      "text/plain": [
       "Train:   0%|          | 0/5 [00:00<?, ?it/s]"
      ]
     },
     "metadata": {},
     "output_type": "display_data"
    },
    {
     "name": "stdout",
     "output_type": "stream",
     "text": [
      "tensor([[54.9758, 14.4561],\n",
      "        [78.3716, 12.9052],\n",
      "        [83.0672, 21.2545],\n",
      "        [71.5768, 20.9694],\n",
      "        [37.1409,  6.8789]], device='cuda:0', grad_fn=<SliceBackward0>)\n",
      "tensor([[ 36.,   6.],\n",
      "        [ 90.,  59.],\n",
      "        [179.,   4.],\n",
      "        [171.,  24.],\n",
      "        [ 64.,   3.]], device='cuda:0')\n"
     ]
    },
    {
     "data": {
      "application/vnd.jupyter.widget-view+json": {
       "model_id": "1ebd6846738240689c75b3f603ac9e0d",
       "version_major": 2,
       "version_minor": 0
      },
      "text/plain": [
       "Validation:   0%|          | 0/3 [00:00<?, ?it/s]"
      ]
     },
     "metadata": {},
     "output_type": "display_data"
    },
    {
     "name": "stdout",
     "output_type": "stream",
     "text": [
      "Training Loss: 13435.2887\n",
      "Testing Loss: 39813.3014\n",
      "Learning Rate: 1.000e-04\n",
      "\n",
      "Epoch 15/18\n"
     ]
    },
    {
     "data": {
      "application/vnd.jupyter.widget-view+json": {
       "model_id": "ca27aa6ded02426d8b3ba7568046d5b3",
       "version_major": 2,
       "version_minor": 0
      },
      "text/plain": [
       "Train:   0%|          | 0/5 [00:00<?, ?it/s]"
      ]
     },
     "metadata": {},
     "output_type": "display_data"
    },
    {
     "name": "stdout",
     "output_type": "stream",
     "text": [
      "tensor([[ 83.7721,   2.6556],\n",
      "        [ 48.9740,  10.4324],\n",
      "        [137.2120,  24.3103],\n",
      "        [ 21.8798,   5.9494],\n",
      "        [ 78.9139,   3.8753]], device='cuda:0', grad_fn=<SliceBackward0>)\n",
      "tensor([[129.,  11.],\n",
      "        [ 61.,   3.],\n",
      "        [ 97.,  34.],\n",
      "        [  5.,  10.],\n",
      "        [ 53.,  34.]], device='cuda:0')\n"
     ]
    },
    {
     "data": {
      "application/vnd.jupyter.widget-view+json": {
       "model_id": "29a7fb21dc924cbb895e385c81c9cef5",
       "version_major": 2,
       "version_minor": 0
      },
      "text/plain": [
       "Validation:   0%|          | 0/3 [00:00<?, ?it/s]"
      ]
     },
     "metadata": {},
     "output_type": "display_data"
    },
    {
     "name": "stdout",
     "output_type": "stream",
     "text": [
      "Training Loss: 10588.8987\n",
      "Testing Loss: 6400.6100\n",
      "Learning Rate: 1.000e-04\n",
      "\n",
      "Epoch 16/18\n"
     ]
    },
    {
     "data": {
      "application/vnd.jupyter.widget-view+json": {
       "model_id": "95b9fc398eec48e9a8bd065c5e18db7b",
       "version_major": 2,
       "version_minor": 0
      },
      "text/plain": [
       "Train:   0%|          | 0/5 [00:00<?, ?it/s]"
      ]
     },
     "metadata": {},
     "output_type": "display_data"
    },
    {
     "name": "stdout",
     "output_type": "stream",
     "text": [
      "tensor([[143.7574,  24.8726],\n",
      "        [ 41.3469,  -0.5490],\n",
      "        [ 23.7370,   6.7434],\n",
      "        [ 55.7727,  25.1672],\n",
      "        [ 41.0156,  11.6888]], device='cuda:0', grad_fn=<SliceBackward0>)\n",
      "tensor([[256.,   6.],\n",
      "        [ 17.,   5.],\n",
      "        [ 50.,   5.],\n",
      "        [ 65.,  10.],\n",
      "        [ 50.,   5.]], device='cuda:0')\n"
     ]
    },
    {
     "data": {
      "application/vnd.jupyter.widget-view+json": {
       "model_id": "6423f68a64ee42da98db1fec5e0f44d6",
       "version_major": 2,
       "version_minor": 0
      },
      "text/plain": [
       "Validation:   0%|          | 0/3 [00:00<?, ?it/s]"
      ]
     },
     "metadata": {},
     "output_type": "display_data"
    },
    {
     "name": "stdout",
     "output_type": "stream",
     "text": [
      "Training Loss: 9308.6981\n",
      "Testing Loss: 15014.4014\n",
      "Learning Rate: 1.000e-04\n",
      "\n",
      "Epoch 17/18\n"
     ]
    },
    {
     "data": {
      "application/vnd.jupyter.widget-view+json": {
       "model_id": "f298c511a31144f096df7406759ccdbb",
       "version_major": 2,
       "version_minor": 0
      },
      "text/plain": [
       "Train:   0%|          | 0/5 [00:00<?, ?it/s]"
      ]
     },
     "metadata": {},
     "output_type": "display_data"
    },
    {
     "name": "stdout",
     "output_type": "stream",
     "text": [
      "tensor([[137.8423,  14.5973],\n",
      "        [ 20.8106,   4.7738],\n",
      "        [101.6852,  12.8579],\n",
      "        [ 68.2824,  -2.4247],\n",
      "        [306.8604,  59.1570]], device='cuda:0', grad_fn=<SliceBackward0>)\n",
      "tensor([[ 90.,  59.],\n",
      "        [  6.,   4.],\n",
      "        [ 65.,  10.],\n",
      "        [ 95.,  36.],\n",
      "        [248.,   6.]], device='cuda:0')\n"
     ]
    },
    {
     "data": {
      "application/vnd.jupyter.widget-view+json": {
       "model_id": "7d7c4737e85e4b04a95a789be1cffab6",
       "version_major": 2,
       "version_minor": 0
      },
      "text/plain": [
       "Validation:   0%|          | 0/3 [00:00<?, ?it/s]"
      ]
     },
     "metadata": {},
     "output_type": "display_data"
    },
    {
     "name": "stdout",
     "output_type": "stream",
     "text": [
      "Training Loss: 7678.1516\n",
      "Testing Loss: 33781.5049\n",
      "Learning Rate: 1.000e-04\n",
      "\n",
      "Epoch 18/18\n"
     ]
    },
    {
     "data": {
      "application/vnd.jupyter.widget-view+json": {
       "model_id": "2b76120a6e6947d89f64f86892082499",
       "version_major": 2,
       "version_minor": 0
      },
      "text/plain": [
       "Train:   0%|          | 0/5 [00:00<?, ?it/s]"
      ]
     },
     "metadata": {},
     "output_type": "display_data"
    },
    {
     "name": "stdout",
     "output_type": "stream",
     "text": [
      "tensor([[156.1927,  36.0975],\n",
      "        [108.1979,  17.3564],\n",
      "        [102.0363,   4.3859],\n",
      "        [ 63.5703,   7.2555],\n",
      "        [ 43.9919,   3.8690]], device='cuda:0', grad_fn=<SliceBackward0>)\n",
      "tensor([[ 16.,   6.],\n",
      "        [ 50.,   5.],\n",
      "        [ 36.,   6.],\n",
      "        [  5.,  10.],\n",
      "        [104.,   4.]], device='cuda:0')\n"
     ]
    },
    {
     "data": {
      "application/vnd.jupyter.widget-view+json": {
       "model_id": "ab604ee78e414ca3842cf91d1638698c",
       "version_major": 2,
       "version_minor": 0
      },
      "text/plain": [
       "Validation:   0%|          | 0/3 [00:00<?, ?it/s]"
      ]
     },
     "metadata": {},
     "output_type": "display_data"
    },
    {
     "name": "stdout",
     "output_type": "stream",
     "text": [
      "Training Loss: 6655.9268\n",
      "Testing Loss: 12836.0736\n",
      "Learning Rate: 1.000e-04\n",
      "\n"
     ]
    }
   ],
   "source": [
    "from math import ceil\n",
    "history = {'train_loss': [], 'val_loss': [], 'train_acc': [], 'val_acc': [], 'lr': []}\n",
    "\n",
    "for epoch in range(epochs):\n",
    "    print(f\"Epoch {epoch+1}/{epochs}\")\n",
    "\n",
    "    history['lr'].append(opt.param_groups[0]['lr'])\n",
    "    model.train()\n",
    "    train_loss = 0\n",
    "    num_samples = 0\n",
    "    for idx, (X_batch, y_batch) in enumerate(tqdm(train_reg_dataloader, desc=\"Train\")):\n",
    "        X_batch, y_batch = X_batch.to(device), y_batch.to(device) * 512\n",
    "        pred = model(X_batch)\n",
    "        if idx == 0:\n",
    "            print(pred[:5])\n",
    "            print(y_batch[:5])\n",
    "        loss = criterion(pred, y_batch)\n",
    "\n",
    "        opt.zero_grad()\n",
    "        loss.backward()\n",
    "        opt.step()\n",
    "\n",
    "        train_loss += loss.item()\n",
    "        num_samples += len(X_batch)\n",
    "            \n",
    "    train_loss /= num_samples\n",
    "    history['train_loss'].append(train_loss)\n",
    "\n",
    "\n",
    "    model.eval()\n",
    "    val_loss = 0\n",
    "    num_samples = 0\n",
    "    with torch.no_grad():\n",
    "        for idx, (X_batch, y_batch) in enumerate(tqdm(test_reg_dataloader, desc=\"Validation\")):\n",
    "            X_batch, y_batch = X_batch.to(device), y_batch.to(device) * 512\n",
    "            pred = model(X_batch)\n",
    "            loss = criterion(pred, y_batch)\n",
    "\n",
    "        \n",
    "            val_loss += loss.item()\n",
    "            num_samples += len(X_batch)\n",
    "\n",
    "    val_loss /= num_samples\n",
    "    history['val_loss'].append(val_loss)\n",
    "\n",
    "    if scheduler is not None:\n",
    "        try:\n",
    "            scheduler.step()\n",
    "        except:\n",
    "            scheduler.step(history['train_loss'][-1])\n",
    "    \n",
    "    print(f\"Training Loss: {history['train_loss'][-1]:.4f}\")\n",
    "    print(f\"Testing Loss: {history['val_loss'][-1]:.4f}\")\n",
    "    print(f\"Learning Rate: {history['lr'][-1]:.3e}\")\n",
    "    \n",
    "    print()"
   ]
  },
  {
   "cell_type": "code",
   "execution_count": 348,
   "id": "47242d9e-3a03-4ca2-9f44-547c04b7fdd1",
   "metadata": {},
   "outputs": [
    {
     "data": {
      "application/vnd.jupyter.widget-view+json": {
       "model_id": "3ab118c4ed9c497aaf5832011be32f28",
       "version_major": 2,
       "version_minor": 0
      },
      "text/plain": [
       "Validation:   0%|          | 0/3 [00:00<?, ?it/s]"
      ]
     },
     "metadata": {},
     "output_type": "display_data"
    },
    {
     "name": "stdout",
     "output_type": "stream",
     "text": [
      "[32.076027  5.056288] [113.   7.]\n",
      "[103.29551  16.20145] [ 5. 10.]\n",
      "[55.501007  8.720691] [167.  23.]\n",
      "[110.36651   17.309397] [ 5. 10.]\n",
      "[19.65943    3.1132293] [36.  6.]\n",
      "[166.79456   26.138346] [ 5. 10.]\n",
      "[35.41662    5.5795965] [43.  4.]\n",
      "[129.88368  20.36243] [ 5. 10.]\n",
      "[80.15578  12.580447] [ 5. 11.]\n",
      "[38.372475  6.04299 ] [51. 35.]\n",
      "[21.227554   3.3582954] [50.  5.]\n",
      "[120.67631   18.921507] [ 5. 10.]\n",
      "[18.370466   2.9117932] [6. 2.]\n",
      "[91.85646  14.412247] [ 5. 10.]\n",
      "[164.30463   25.749956] [ 5. 10.]\n",
      "[143.84273   22.547192] [ 5. 11.]\n",
      "\n",
      "[117.225815  18.381618] [ 5. 11.]\n",
      "[127.62823   20.007856] [ 5. 11.]\n",
      "[103.49941  16.23243] [ 5. 11.]\n",
      "[97.640686 15.317229] [ 5. 11.]\n",
      "[16.44832    2.6104724] [6. 3.]\n",
      "[117.59487  18.43973] [ 5. 10.]\n",
      "[132.2519    20.733004] [10. 10.]\n",
      "[7.5699472 1.2205622] [6. 3.]\n",
      "[194.02412   30.399662] [10. 10.]\n",
      "[329.79236  51.64201] [582.  43.]\n",
      "[119.74803   18.777023] [ 5. 11.]\n",
      "[132.15833   20.718271] [ 5. 11.]\n",
      "[112.494705  17.63969 ] [ 5. 10.]\n",
      "[155.08266  24.30567] [ 5. 15.]\n",
      "[23.437977  3.703442] [58.  4.]\n",
      "[136.11145  21.33813] [ 5. 10.]\n",
      "\n",
      "[172.06721   26.963251] [ 5. 11.]\n",
      "[152.87646   23.960905] [ 5. 15.]\n",
      "[92.47735  14.507914] [ 5. 10.]\n",
      "[74.88418  11.757036] [10. 10.]\n",
      "[151.30678   23.715399] [ 6. 11.]\n",
      "[22.968119   3.6305943] [17.  5.]\n",
      "[115.52451   18.116257] [ 5. 10.]\n",
      "[108.75081   17.055536] [ 5. 10.]\n",
      "[23.72272   3.749144] [42.  5.]\n",
      "[108.10194   16.952562] [ 5. 10.]\n",
      "[131.62053   20.635899] [ 5. 10.]\n",
      "[175.18443   27.450537] [ 5. 11.]\n",
      "[9.481583  1.5200075] [6. 4.]\n",
      "\n"
     ]
    }
   ],
   "source": [
    "for idx, (X_batch, y_batch) in enumerate(tqdm(test_reg_dataloader, desc=\"Validation\")):\n",
    "    X_batch, y_batch = X_batch.to(device), y_batch.to(device) * 512\n",
    "    pred = model(X_batch)\n",
    "    for r1, r2 in zip(pred, y_batch):\n",
    "        print(r1.cpu().detach().numpy(), r2.cpu().detach().numpy())\n",
    "    print()"
   ]
  },
  {
   "cell_type": "code",
   "execution_count": 349,
   "id": "1ad3794a-8a3a-46b8-b75d-7f387859f9c4",
   "metadata": {},
   "outputs": [
    {
     "data": {
      "application/vnd.jupyter.widget-view+json": {
       "model_id": "8be93cc7070142e29b42b714d395406f",
       "version_major": 2,
       "version_minor": 0
      },
      "text/plain": [
       "Validation:   0%|          | 0/5 [00:00<?, ?it/s]"
      ]
     },
     "metadata": {},
     "output_type": "display_data"
    },
    {
     "name": "stdout",
     "output_type": "stream",
     "text": [
      "[17.162     2.722292] [17.  5.]\n",
      "[497.2698   77.85048] [708.  41.]\n",
      "[31.346575   4.9408293] [129.  11.]\n",
      "[23.72272   3.749144] [17.  5.]\n",
      "[58.551647  9.200684] [95. 36.]\n",
      "[30.508663   4.8109174] [50.  5.]\n",
      "[51.131767   8.0378895] [188.   4.]\n",
      "[86.76142  13.613669] [171.  24.]\n",
      "[20.831577   3.2956407] [106.  10.]\n",
      "[16.288006  2.585763] [4. 4.]\n",
      "[111.69178   17.514553] [363.   8.]\n",
      "[19.409601   3.0732455] [58.  4.]\n",
      "[13.735755  2.185643] [17.  5.]\n",
      "[27.842634  4.392887] [42.  5.]\n",
      "[35.542347  5.599921] [51. 35.]\n",
      "[47.79317    7.5148187] [189.  10.]\n",
      "\n",
      "[12.519635   1.9953722] [10. 11.]\n",
      "[21.62419    3.4209404] [16.  6.]\n",
      "[206.45073  32.34634] [399.  43.]\n",
      "[257.80804   40.381554] [459.  41.]\n",
      "[7.2451243 1.169662 ] [6. 3.]\n",
      "[299.6396    46.924126] [582.  43.]\n",
      "[169.7551   26.60132] [393.  43.]\n",
      "[84.17347  13.208206] [245.   8.]\n",
      "[6.9176993 1.1187226] [6. 4.]\n",
      "[8.098572  1.3031313] [6. 4.]\n",
      "[31.189444  4.918494] [90. 59.]\n",
      "[179.19188   28.072344] [256.   6.]\n",
      "[20.260036   3.2067409] [48.  2.]\n",
      "[142.93858   22.409348] [281.  44.]\n",
      "[23.757814   3.7539165] [17.  5.]\n",
      "[20.967102  3.316916] [65. 10.]\n",
      "\n",
      "[14.348279   2.2811942] [66.  4.]\n",
      "[137.3451    21.531082] [260.   7.]\n",
      "[16.265331   2.5816967] [ 5. 10.]\n",
      "[98.63305 15.4698 ] [212.   6.]\n",
      "[267.37564  41.87786] [451.  41.]\n",
      "[18.717514   2.9655015] [50.  5.]\n",
      "[13.866757   2.2063143] [42.  5.]\n",
      "[27.504211  4.339624] [67.  3.]\n",
      "[33.607616   5.2976084] [53. 34.]\n",
      "[12.973792   2.0658727] [6. 3.]\n",
      "[9.797819 1.56918 ] [6. 4.]\n",
      "[22.342676   3.5324144] [64.  3.]\n",
      "[98.19065  15.399286] [200.   6.]\n",
      "[19.65943    3.1132293] [36.  6.]\n",
      "[24.22023    3.8264034] [41. 10.]\n",
      "[18.5053     2.9318972] [58. 10.]\n",
      "\n",
      "[19.240948  3.046956] [104.   4.]\n",
      "[6.797856  1.0999273] [6. 4.]\n",
      "[24.13404   3.813383] [42.  5.]\n",
      "[236.53737  37.05446] [400.  86.]\n",
      "[47.615356  7.489481] [97. 34.]\n",
      "[49.096977  7.72117 ] [117.  60.]\n",
      "[159.09567  24.93197] [346.   4.]\n",
      "[30.397943  4.793468] [16.  6.]\n",
      "[32.076027  5.056288] [113.   7.]\n",
      "[9.481583  1.5200075] [50.  5.]\n",
      "[18.88147    2.9911366] [17.  5.]\n",
      "[35.41662    5.5795965] [43.  4.]\n",
      "[54.819057  8.614152] [179.   4.]\n",
      "[21.474777   3.3975382] [40.  9.]\n",
      "[27.752144  4.378891] [50.  5.]\n",
      "[57.528923  9.040317] [125.  10.]\n",
      "\n",
      "[74.88418  11.757036] [223.  43.]\n",
      "[7.2378817 1.1688259] [6. 4.]\n",
      "[50.77873   7.981719] [181.  10.]\n",
      "[55.308197  8.690436] [167.  23.]\n",
      "[32.37457   5.103394] [10. 10.]\n",
      "[27.110624   4.2793803] [75.  4.]\n",
      "[54.142902  8.510004] [112.  25.]\n",
      "[10.035117   1.6068748] [6. 4.]\n",
      "[31.276579  4.929887] [61.  3.]\n",
      "[105.46449   16.539503] [248.   6.]\n",
      "[19.314283   3.0595357] [11. 10.]\n",
      "[90.26731  14.161972] [151.   6.]\n",
      "[28.436855  4.486346] [15. 13.]\n",
      "[54.849365  8.620581] [91.  7.]\n",
      "[16.44832    2.6104724] [6. 3.]\n",
      "\n"
     ]
    }
   ],
   "source": [
    "for idx, (X_batch, y_batch) in enumerate(tqdm(train_reg_dataloader, desc=\"Train\")):\n",
    "    X_batch, y_batch = X_batch.to(device), y_batch.to(device) * 512\n",
    "    pred = model(X_batch)\n",
    "    for r1, r2 in zip(pred, y_batch):\n",
    "        print(r1.cpu().detach().numpy(), r2.cpu().detach().numpy())\n",
    "    print()"
   ]
  },
  {
   "cell_type": "code",
   "execution_count": 350,
   "id": "86814d9b-c1e8-49cd-8c73-c9bbd49b17ab",
   "metadata": {},
   "outputs": [],
   "source": [
    "torch.save(resnet34.state_dict(), \"resnet34_weights.pth\")"
   ]
  },
  {
   "cell_type": "code",
   "execution_count": 351,
   "id": "2b925e6f-7448-4b56-ae34-8a71db759a46",
   "metadata": {},
   "outputs": [],
   "source": [
    "torch.save(model.state_dict(), \"timenet_weights.pth\")"
   ]
  },
  {
   "cell_type": "code",
   "execution_count": null,
   "id": "74616005-485b-40df-a89c-b45470b3dd9c",
   "metadata": {},
   "outputs": [],
   "source": []
  }
 ],
 "metadata": {
  "kernelspec": {
   "display_name": "Python 3 (ipykernel)",
   "language": "python",
   "name": "python3"
  },
  "language_info": {
   "codemirror_mode": {
    "name": "ipython",
    "version": 3
   },
   "file_extension": ".py",
   "mimetype": "text/x-python",
   "name": "python",
   "nbconvert_exporter": "python",
   "pygments_lexer": "ipython3",
   "version": "3.12.9"
  }
 },
 "nbformat": 4,
 "nbformat_minor": 5
}
